{
 "cells": [
  {
   "cell_type": "markdown",
   "id": "7dd0e5ab",
   "metadata": {},
   "source": [
    "# To Write/Read data from an AWS RDS MySQL \n",
    "# Instance into a pandas DataFrame (Python)"
   ]
  },
  {
   "cell_type": "markdown",
   "id": "6914889a",
   "metadata": {},
   "source": [
    "### pip install pandas sqlalchemy pymysql"
   ]
  },
  {
   "cell_type": "markdown",
   "id": "7d17c253",
   "metadata": {},
   "source": [
    "##  Write the CSV to MySQl Server"
   ]
  },
  {
   "cell_type": "code",
   "execution_count": 6,
   "id": "afe3eea3",
   "metadata": {
    "scrolled": true
   },
   "outputs": [
    {
     "name": "stdout",
     "output_type": "stream",
     "text": [
      "   sepal_length  sepal_width  petal_length  petal_width species\n",
      "0           5.1          3.5           1.4          0.2  setosa\n",
      "1           4.9          3.0           1.4          0.2  setosa\n",
      "2           4.7          3.2           1.3          0.2  setosa\n",
      "3           4.6          3.1           1.5          0.2  setosa\n",
      "4           5.0          3.6           1.4          0.2  setosa\n",
      "   index  sepal_length  sepal_width  petal_length  petal_width species\n",
      "0      0           5.1          3.5           1.4          0.2  setosa\n",
      "1      1           4.9          3.0           1.4          0.2  setosa\n",
      "2      2           4.7          3.2           1.3          0.2  setosa\n",
      "3      3           4.6          3.1           1.5          0.2  setosa\n",
      "4      4           5.0          3.6           1.4          0.2  setosa\n"
     ]
    }
   ],
   "source": [
    "import pandas as pd\n",
    "\n",
    "iris = pd.read_csv(\"IRIS.csv\")\n",
    "print(iris.head())\n",
    "iris.reset_index(level=0, inplace=True) \n",
    "print(iris.head())"
   ]
  },
  {
   "cell_type": "code",
   "execution_count": 7,
   "id": "edd9e8d7",
   "metadata": {},
   "outputs": [
    {
     "name": "stdout",
     "output_type": "stream",
     "text": [
      "DataFrame written to MySQL database successfully!\n"
     ]
    }
   ],
   "source": [
    "from sqlalchemy import create_engine\n",
    "# MySQL connection details\n",
    "user = 'admin'\n",
    "password = '' #fill the pw\n",
    "endpoint = 'alexdb1.cj04qw82882s.ap-south-1.rds.amazonaws.com'  # e.g., 'mydatabase.example.com'\n",
    "port = '3306'  # typically 3306\n",
    "database = 'flowers'\n",
    "\n",
    "# Create the SQLAlchemy engine\n",
    "engine = create_engine(f'mysql+pymysql://{user}:{password}@{endpoint}:{port}/{database}')\n",
    "\n",
    "# Write the DataFrame to MySQL\n",
    "table_name = 'IrisFlowers'\n",
    "iris.to_sql(table_name, engine, if_exists='replace', index=False)\n",
    "\n",
    "print(\"DataFrame written to MySQL database successfully!\")"
   ]
  },
  {
   "cell_type": "markdown",
   "id": "0d9b6813",
   "metadata": {},
   "source": [
    "#  Read Table from MySQl Server"
   ]
  },
  {
   "cell_type": "code",
   "execution_count": 4,
   "id": "e61282eb",
   "metadata": {},
   "outputs": [
    {
     "name": "stdout",
     "output_type": "stream",
     "text": [
      "   AVG(petal_length )\n",
      "0            3.758667\n"
     ]
    }
   ],
   "source": [
    "import pandas as pd\n",
    "from sqlalchemy import create_engine\n",
    "# MySQL connection details\n",
    "user = 'admin'\n",
    "password = '' #fill the pw\n",
    "endpoint = 'alexdb1.cj04qw82882s.ap-south-1.rds.amazonaws.com'  # e.g., 'mydatabase.example.com'\n",
    "port = '3306'  # typically 3306\n",
    "database = 'flowers'\n",
    "\n",
    "# Create the SQLAlchemy engine\n",
    "engine = create_engine(f'mysql+pymysql://{user}:{password}@{endpoint}:{port}/{database}')\n",
    "\n",
    "# Define the SQL query to read the data\n",
    "query = \"select AVG(petal_length ) from IrisFlowers\"\n",
    "\n",
    "# Read the data into a pandas DataFrame\n",
    "df = pd.read_sql(query, engine)\n",
    "\n",
    "# Print the DataFrame\n",
    "print(df)\n"
   ]
  },
  {
   "cell_type": "code",
   "execution_count": null,
   "id": "e783d356",
   "metadata": {},
   "outputs": [],
   "source": []
  }
 ],
 "metadata": {
  "kernelspec": {
   "display_name": "Python 3 (ipykernel)",
   "language": "python",
   "name": "python3"
  },
  "language_info": {
   "codemirror_mode": {
    "name": "ipython",
    "version": 3
   },
   "file_extension": ".py",
   "mimetype": "text/x-python",
   "name": "python",
   "nbconvert_exporter": "python",
   "pygments_lexer": "ipython3",
   "version": "3.11.5"
  }
 },
 "nbformat": 4,
 "nbformat_minor": 5
}
